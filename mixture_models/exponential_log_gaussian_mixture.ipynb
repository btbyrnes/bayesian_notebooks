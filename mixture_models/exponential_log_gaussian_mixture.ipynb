{
 "cells": [
  {
   "cell_type": "code",
   "execution_count": 1,
   "metadata": {},
   "outputs": [],
   "source": [
    "import numpy as np\n",
    "import pandas as pd\n",
    "import scipy.stats as stats\n",
    "\n",
    "import matplotlib.pyplot as plt\n",
    "import seaborn as sns\n",
    "sns.set_theme()"
   ]
  },
  {
   "attachments": {},
   "cell_type": "markdown",
   "metadata": {},
   "source": [
    "Study the distribution of the the lifetime (failure time) of fuses"
   ]
  },
  {
   "cell_type": "code",
   "execution_count": 2,
   "metadata": {},
   "outputs": [],
   "source": [
    "data = pd.read_csv(\"datasets/fuses.csv\")\n",
    "x = data[\"time\"]"
   ]
  },
  {
   "cell_type": "code",
   "execution_count": 3,
   "metadata": {},
   "outputs": [
    {
     "data": {
      "text/plain": [
       "(array([18.,  6.,  7.,  3.,  8., 27., 29., 36., 35., 36., 41., 31., 28.,\n",
       "        20., 17., 16., 10.,  7.,  7.,  4.,  3.,  3.,  3.,  1.,  0.,  1.,\n",
       "         1.,  0.,  1.,  0.,  0.,  0.,  0.,  0.,  0.,  0.,  0.,  0.,  0.,\n",
       "         1.]),\n",
       " array([8.38588100e-03, 2.21987884e-01, 4.35589887e-01, 6.49191890e-01,\n",
       "        8.62793893e-01, 1.07639590e+00, 1.28999790e+00, 1.50359990e+00,\n",
       "        1.71720190e+00, 1.93080391e+00, 2.14440591e+00, 2.35800791e+00,\n",
       "        2.57160992e+00, 2.78521192e+00, 2.99881392e+00, 3.21241593e+00,\n",
       "        3.42601793e+00, 3.63961993e+00, 3.85322193e+00, 4.06682394e+00,\n",
       "        4.28042594e+00, 4.49402794e+00, 4.70762995e+00, 4.92123195e+00,\n",
       "        5.13483395e+00, 5.34843596e+00, 5.56203796e+00, 5.77563996e+00,\n",
       "        5.98924196e+00, 6.20284397e+00, 6.41644597e+00, 6.63004797e+00,\n",
       "        6.84364998e+00, 7.05725198e+00, 7.27085398e+00, 7.48445599e+00,\n",
       "        7.69805799e+00, 7.91165999e+00, 8.12526199e+00, 8.33886400e+00,\n",
       "        8.55246600e+00]),\n",
       " <BarContainer object of 40 artists>)"
      ]
     },
     "execution_count": 3,
     "metadata": {},
     "output_type": "execute_result"
    },
    {
     "data": {
      "image/png": "[encoded data removed]",
      "text/plain": [
       "<Figure size 640x480 with 1 Axes>"
      ]
     },
     "metadata": {},
     "output_type": "display_data"
    }
   ],
   "source": [
    "plt.hist(x, bins=int(len(x)/10))"
   ]
  },
  {
   "attachments": {},
   "cell_type": "markdown",
   "metadata": {},
   "source": [
    "### Mathematical derivation\n",
    "Proposed model\n",
    "$$\n",
    "f(x_i) =  \n",
    "            w \\lambda \\exp \\{ -\\lambda x \\} + \n",
    "            (1-w) \\frac {1} {\\sqrt {2\\pi} \\tau x} \\exp \\{ \n",
    "                -\\frac {1} {2 \\tau^2} ( \\log(x_i) - \\mu )^2\n",
    "                \\}\n",
    "        , x > 0\n",
    "$$\n",
    "\n",
    "\n",
    "E-step\n",
    "\n",
    "$$\n",
    "\n",
    "p_{z_{k}}(x_i) = \\frac {\\pi_k f(x_i)} {\\sum \\pi_j f(x_i)} = v_{i,k}\n",
    "\n",
    "$$\n",
    "\n"
   ]
  },
  {
   "attachments": {},
   "cell_type": "markdown",
   "metadata": {},
   "source": [
    "M-step\n",
    "\n",
    "$$\n",
    "Q(\\theta, \\theta^{old}) = \\sum\\limits_{i=1}^{N} p(Z | X, \\theta^{old}) \\log[p(x | Z, \\theta)]\n",
    "\n",
    "\\rightarrow\n",
    "\n",
    "\\theta^{new} = argmax ( Q(\\theta, \\theta^{old}) )\n",
    "\n",
    "\\\\ = \\sum\\limits_{i=1}^{N} [ p_{z_1}(x_i) \\log[w \\lambda \\exp\\{-\\lambda x_i\\}] + p_{z_2}(x_i) \\log[ (1-w) \\frac {1} {\\sqrt {2\\pi} \\tau } \\exp \\{ \n",
    "                -\\frac {1} {2 \\tau^2} ( \\log(x_i) - \\mu )^2\n",
    "                \\}  ] ] \n",
    "$$\n",
    "\n",
    "$$\n",
    "= \\sum\\limits_{i=1}^{N} p_{z_1}(x_i)[ \\log(w) + \\log(\\lambda) - \\lambda x_i ] + p_{z_2}(x_i)[\\log(1-w) - \\log(\\sqrt{2\\pi} \\tau) \n",
    "\n",
    "- \\frac {(\\log(x_i) - \\mu)^2} {2 \\tau ^2} ]\n",
    "$$\n",
    "\n",
    "$$\n",
    "= \\sum\\limits_{i=1}^{N} v_{i,1}[ \\log(w) + \\log(\\lambda) - \\lambda x_i ] + v_{i,2}[\\log(1-w) - \\log(\\sqrt{2\\pi} \\tau) \n",
    "\n",
    "- \\frac {(\\log(x_i) - \\mu)^2} {2 \\tau ^2} ]\n",
    "$$\n",
    "\n",
    "Optimization Procedure\n",
    "\n",
    "$$\n",
    "\n",
    "\\frac {\\partial Q} {\\partial w} = \\frac {1} {w} \\sum\\limits_{i=1}^{N} v_{i,1} - \\frac {1} {1-w} \\sum\\limits_{i=1}^{N} v_{i,2} = 0 \\rightarrow\n",
    "w = \\frac {\\sum\\limits_{i=1}^{N} v_{i,1}} {\\sum\\limits_{i=1}^{N} v_{i,1} + \\sum\\limits_{i=1}^{N} v_{i,2}}\n",
    "$$\n",
    "\n",
    "$$\n",
    "\n",
    "\\frac {\\partial Q} {\\partial \\lambda} = \\sum\\limits_{i=1}^{N} v_{i,1} \\frac {1} {\\lambda} - \\sum\\limits_{i=1}^{N} v_{i,1} x_i = 0\n",
    "\n",
    "\\rightarrow \n",
    "\n",
    "\\lambda = \\frac {\\sum\\limits_{i=1}^{N} v_{i,1}}  {\\sum\\limits_{i=1}^{N} v_{i,1} x_i}\n",
    "$$\n",
    "\n",
    "$$\n",
    "\n",
    "\\frac {\\partial Q} {\\partial \\mu} = \\sum\\limits_{i=1}^{N} v_{i,2} \\frac {2 (\\log(x_i) - \\mu)} {2 \\tau ^2} = 0\n",
    "\n",
    "\n",
    "\\rightarrow \n",
    "\n",
    "\\mu = \\frac {\\sum\\limits_{i=1}^{N} v_{i,2} \\log(x_i)}  {\\sum\\limits_{i=1}^{N} v_{i,2}}\n",
    "$$\n",
    "\n",
    "$$\n",
    "\\frac {\\partial Q} {\\partial \\tau} = \n",
    "\n",
    "    \\sum\\limits_{i=1}^{N} v_{i,2} \\frac {-\\sqrt{2\\pi}} { \\tau } +\n",
    "\n",
    "    \\sum\\limits_{i=1}^{N} v_{i,2} \\frac {2(\\log(x_i) - \\mu)^2} {2 \\tau ^3} \n",
    "\n",
    "    = 0 \n",
    "\n",
    "\\rightarrow \n",
    "\n",
    "\\tau^2 = \\frac {\\sum\\limits_{i=1}^{N} v_{i,2} (\\log(x_i) - \\mu)^2} {\\sum\\limits_{i=1}^{N} v_{i,2}} \n",
    "$$\n"
   ]
  },
  {
   "cell_type": "code",
   "execution_count": 4,
   "metadata": {},
   "outputs": [],
   "source": [
    "x = data[\"time\"]"
   ]
  },
  {
   "attachments": {},
   "cell_type": "markdown",
   "metadata": {},
   "source": [
    "The following statistical code is equivalent between R and SciPy.stats:\n",
    "\n",
    "    mu = 3\n",
    "    tau = 2\n",
    "    \n",
    "    r      > dlnorm(x, mu, tau)\n",
    "    python > lognorm.pdf(x, scale=np.exp(mu), s=tau)\n",
    "    r      > dlnorm(x, mu, tau, log=TRUE)\n",
    "    python > lognorm.logpdf(x, scale=np.exp(mu), s=tau)\n",
    "\n",
    "    r      > dexp(x, shape=lam)\n",
    "    python > expon.pdf(x, scale=1/lam, s=tau)\n",
    "    r      > dexp(x, shape=lam, log=TRUE)\n",
    "    python > expon.logpdf(x, scale=1/lam)"
   ]
  },
  {
   "attachments": {},
   "cell_type": "markdown",
   "metadata": {},
   "source": [
    "Actual Answer\n",
    "\n",
    "w = 0.09, lam = 3.05, mu=0.78, tau=0.38"
   ]
  },
  {
   "cell_type": "code",
   "execution_count": 5,
   "metadata": {},
   "outputs": [],
   "source": [
    "# Initial conditions\n",
    "K = 2\n",
    "w_0 = 0.3\n",
    "lam_0 = np.std(x)\n",
    "mu_0 = np.mean(x)\n",
    "tau_0 = np.std(x)"
   ]
  },
  {
   "attachments": {},
   "cell_type": "markdown",
   "metadata": {},
   "source": [
    "### Algorithm"
   ]
  },
  {
   "cell_type": "code",
   "execution_count": 6,
   "metadata": {},
   "outputs": [
    {
     "name": "stdout",
     "output_type": "stream",
     "text": [
      "Convergence: 0.0000081 after 80 steps\n",
      "w:      0.08734068809143702\n",
      "lambda: 3.05229481864655\n",
      "mu:     0.7824630225914216\n",
      "lambda: 0.37902701112113835\n"
     ]
    },
    {
     "data": {
      "image/png": "[encoded data removed]",
      "text/plain": [
       "<Figure size 640x480 with 1 Axes>"
      ]
     },
     "metadata": {},
     "output_type": "display_data"
    }
   ],
   "source": [
    "w = 0.5\n",
    "mu = 1\n",
    "lam = 1\n",
    "tau = lam_0\n",
    "\n",
    "mu_ = []\n",
    "w_ = []\n",
    "lam_ = []\n",
    "tau_= []\n",
    "\n",
    "QQ = []\n",
    "QQ_last = -1e5\n",
    "\n",
    "eps = 1e-5\n",
    "epsilon = 1000\n",
    "\n",
    "mu_ = []\n",
    "w_ = []\n",
    "\n",
    "convergence = False\n",
    "\n",
    "i = 0\n",
    "while not convergence:\n",
    "    i += 1\n",
    "    # E step\n",
    "    p_Z = np.zeros((len(x), K))\n",
    "\n",
    "    p_Z[:,0] = np.log(w) + stats.expon.logpdf(x, scale=1/lam)\n",
    "    p_Z[:,1] = np.log(1 - w) + stats.lognorm.logpdf(x, scale=np.exp(mu), s=tau)\n",
    "    # p_Z[:,1] = np.log(1 - w) + stats.lognorm.logpdf(x, scale=mu, s=tau)\n",
    "    # Convert from Log scale to Probabilities    \n",
    "    total_p_Z = np.sum(np.exp(p_Z - np.max(p_Z, axis=1).reshape(-1,1)), axis=1).reshape(-1,1)\n",
    "    p_Z = np.exp(p_Z - np.max(p_Z, axis=1).reshape(-1,1)) / total_p_Z\n",
    "\n",
    "    # M step\n",
    "    # Using optimization procedure above\n",
    "    w = np.sum(p_Z[:,0]) / ( np.sum(p_Z[:,0]) + np.sum(p_Z[:,1]) )\n",
    "    # Equivalent to\n",
    "    # np.mean(p_Z[:,0])\n",
    "    \n",
    "    lam = np.sum(p_Z[:,0]) / np.dot(p_Z[:,0], x) # Denominator is equivalent to np.sum(p_Z[:,0] * x)\n",
    "    mu = np.dot(p_Z[:,1], np.log(x)) / np.sum(p_Z[:,1])\n",
    "\n",
    "    # Tau\n",
    "    numerator = np.dot(p_Z[:,1], np.power(np.log(x) - mu,2 ) )\n",
    "    denominator = np.sum(p_Z[:,1])\n",
    "    tau = np.sqrt(numerator / denominator)\n",
    "\n",
    "\n",
    "    # Convergence Check\n",
    "    QQ_current = 0.0\n",
    "    # QQ_current += np.sum(\n",
    "    #     np.sum(np.log(w*stats.expon.pdf(x, scale=1/lam) + (1-w) * stats.lognorm.pdf(x, scale=np.exp(mu), s=tau)))\n",
    "    # )\n",
    "    QQ_current += np.dot(p_Z[:,0], np.log(w*stats.expon.pdf(x, scale=1/lam)))\n",
    "    QQ_current += np.dot(p_Z[:,1], np.log((1-w) * stats.lognorm.pdf(x, scale=np.exp(mu), s=tau)))\n",
    "    # QQ_current += np.dot(p_Z[:,1], np.log((1-w) * stats.lognorm.pdf(x, scale=mu, s=tau)))\n",
    "\n",
    "\n",
    "    epsilon = np.abs(QQ_current - QQ_last) / np.abs(QQ_current)\n",
    "\n",
    "    if epsilon < eps:\n",
    "    # if QQ_last > QQ_current:\n",
    "        print(f\"Convergence: {epsilon:.7f} after {i} steps\")\n",
    "        convergence = True\n",
    "    else:\n",
    "        QQ_last = QQ_current\n",
    "        mu_.append(mu)\n",
    "        w_.append(w)\n",
    "        lam_.append(lam)\n",
    "        tau_.append(tau)\n",
    "        QQ.append(QQ_current)\n",
    "\n",
    "\n",
    "plt.plot(QQ)\n",
    "print(f\"w:      {w}\")\n",
    "print(f\"lambda: {lam}\")\n",
    "print(f\"mu:     {mu}\")\n",
    "print(f\"lambda: {tau}\")"
   ]
  },
  {
   "cell_type": "code",
   "execution_count": 7,
   "metadata": {},
   "outputs": [],
   "source": [
    "def f(x:np.ndarray, w=w, lam=lam, mu=mu, tau=tau):\n",
    "    return w*stats.expon.pdf(x, scale=1/lam) + (1-w) * stats.lognorm.pdf(x, scale=np.exp(mu), s=tau)"
   ]
  },
  {
   "cell_type": "code",
   "execution_count": 8,
   "metadata": {},
   "outputs": [],
   "source": [
    "plot_x = np.arange(0, 8, 0.01)"
   ]
  },
  {
   "cell_type": "code",
   "execution_count": 9,
   "metadata": {},
   "outputs": [
    {
     "data": {
      "text/plain": [
       "[<matplotlib.lines.Line2D at 0x140de4b20>]"
      ]
     },
     "execution_count": 9,
     "metadata": {},
     "output_type": "execute_result"
    },
    {
     "data": {
      "image/png": "[encoded data removed]",
      "text/plain": [
       "<Figure size 640x480 with 1 Axes>"
      ]
     },
     "metadata": {},
     "output_type": "display_data"
    }
   ],
   "source": [
    "fig, ax = plt.subplots()\n",
    "ax.hist(x, density=True, bins=int(len(x)/10))\n",
    "ax.plot(plot_x, f(plot_x), color=\"blue\", alpha=0.5)"
   ]
  },
  {
   "attachments": {},
   "cell_type": "markdown",
   "metadata": {},
   "source": [
    "# R-code\n",
    "\n",
    "    w      = 0.1\n",
    "    mu     = mean(log(x))\n",
    "    tau    = sd(log(x))\n",
    "    lambda = 20/mean(x)\n",
    "\n",
    "    v = array(0, dim=c(n,2))\n",
    "    v[,1] = log(w) + dexp(x, lambda, log=TRUE)    \n",
    "    v[,2] = log(1-w) + dlnorm(x, mu, tau, log=TRUE)\n",
    "    for(i in 1:n){\n",
    "      v[i,] = exp(v[i,] - max(v[i,]))/sum(exp(v[i,] - max(v[i,])))\n",
    "      }\n",
    "\n",
    "    w      = mean(v[,1])\n",
    "    lambda = sum(v[,1])/sum(v[,1]*x)\n",
    "    mu     = sum(v[,2]*log(x))/sum(v[,2])\n",
    "    tau    = sqrt(sum(v[,2]*(log(x) - mu)^2)/sum(v[,2]))\n",
    "\n",
    "\n",
    "    QQn = 0\n",
    "    for(i in 1:n){\n",
    "      QQn = QQn + v[i,1]*(log(w) + dexp(x[i], lambda, log=TRUE)) +\n",
    "                  v[i,2]*(log(1-w) + dlnorm(x[i], mu, tau, log=TRUE)) \n",
    "    }\n",
    "    if(abs(QQn-QQ)/abs(QQn)<epsilon){\n",
    "      sw=TRUE\n",
    "    }\n",
    "    QQ = QQn\n"
   ]
  }
 ],
 "metadata": {
  "kernelspec": {
   "display_name": ".dsenv",
   "language": "python",
   "name": "python3"
  },
  "language_info": {
   "codemirror_mode": {
    "name": "ipython",
    "version": 3
   },
   "file_extension": ".py",
   "mimetype": "text/x-python",
   "name": "python",
   "nbconvert_exporter": "python",
   "pygments_lexer": "ipython3",
   "version": "3.10.8"
  },
  "orig_nbformat": 4
 },
 "nbformat": 4,
 "nbformat_minor": 2
}
